{
  "nbformat": 4,
  "nbformat_minor": 0,
  "metadata": {
    "colab": {
      "provenance": [],
      "include_colab_link": true
    },
    "kernelspec": {
      "name": "python3",
      "display_name": "Python 3"
    },
    "language_info": {
      "name": "python"
    }
  },
  "cells": [
    {
      "cell_type": "markdown",
      "metadata": {
        "id": "view-in-github",
        "colab_type": "text"
      },
      "source": [
        "<a href=\"https://colab.research.google.com/github/srija2771/Day-2-Assignment/blob/main/srija/Copy_of_data_structure.ipynb\" target=\"_parent\"><img src=\"https://colab.research.google.com/assets/colab-badge.svg\" alt=\"Open In Colab\"/></a>"
      ]
    },
    {
      "cell_type": "markdown",
      "source": [
        "## 1.Difference between the list and tuple?"
      ],
      "metadata": {
        "id": "HN6tCq60j2mQ"
      }
    },
    {
      "cell_type": "code",
      "source": [
        "#list is mutable.tuple is immutable\n",
        "#In list,we can insert or delete the elements.In tuple,we access the elements\n",
        "a=[1,2,3,4,5]\n",
        "a[1]=0\n",
        "print(a)\n",
        "\n",
        "a=(1,2,3)\n",
        "print(a[2])"
      ],
      "metadata": {
        "id": "Cw8ffkhMk6RQ",
        "colab": {
          "base_uri": "https://localhost:8080/"
        },
        "outputId": "cd23e3a6-4a09-49eb-ff6e-1bad9842f12e"
      },
      "execution_count": 2,
      "outputs": [
        {
          "output_type": "stream",
          "name": "stdout",
          "text": [
            "[1, 0, 3, 4, 5]\n",
            "3\n"
          ]
        }
      ]
    },
    {
      "cell_type": "markdown",
      "source": [
        "## 2.How list is different from an array"
      ],
      "metadata": {
        "id": "uWhJG7hzk6Ov"
      }
    },
    {
      "cell_type": "code",
      "source": [
        "list contains the elements of different datatypes.\n",
        "Array contains the elements of same datatypes."
      ],
      "metadata": {
        "id": "MowyCcINo4Mn"
      },
      "execution_count": null,
      "outputs": []
    },
    {
      "cell_type": "markdown",
      "source": [],
      "metadata": {
        "id": "1uPEIFbxmQwt"
      }
    },
    {
      "cell_type": "markdown",
      "source": [
        "## 3. Use the python list append(),copy(), clear, count, extends(), index(), insert(), pop(), reverse(), sort(), min(), max(),and sum()"
      ],
      "metadata": {
        "id": "_0Rn7JQSk6M1"
      }
    },
    {
      "cell_type": "code",
      "source": [
        "a=[1,2,3,4,5]\n",
        "a.append(6)\n",
        "a.copy()\n",
        "a.clear()\n",
        "a.append(5)\n",
        "a.index(5)\n",
        "a.insert(1,4)\n",
        "a.pop()\n",
        "a.append(7)\n",
        "a.reverse()\n",
        "a.sort()\n",
        "print(min(a))\n",
        "print(max(a))\n",
        "print(sum(a))\n",
        "print(a.count(5))\n",
        "print(a)"
      ],
      "metadata": {
        "colab": {
          "base_uri": "https://localhost:8080/"
        },
        "id": "JGCWU-QQqWpg",
        "outputId": "abb18a31-3a52-4a4f-ab7a-ee869699ac39"
      },
      "execution_count": 40,
      "outputs": [
        {
          "output_type": "stream",
          "name": "stdout",
          "text": [
            "5\n",
            "7\n",
            "12\n",
            "1\n",
            "[5, 7]\n"
          ]
        }
      ]
    },
    {
      "cell_type": "markdown",
      "source": [
        "## 4, How would you divide the list into two parts?"
      ],
      "metadata": {
        "id": "W9xfjUWak6J_"
      }
    },
    {
      "cell_type": "code",
      "source": [
        "a=[1,2,3,4,5,6]\n",
        "a1=[]\n",
        "a2=[]\n",
        "for i in a:\n",
        "  if i%2==0:\n",
        "    a1.append(i)\n",
        "  else:\n",
        "    a2.append(i)\n",
        "print(a1)\n",
        "print(a2)\n"
      ],
      "metadata": {
        "colab": {
          "base_uri": "https://localhost:8080/"
        },
        "id": "XpZmdpKsqVeM",
        "outputId": "b18645d5-67d5-4e1f-cdb6-3cf06a9de250"
      },
      "execution_count": 42,
      "outputs": [
        {
          "output_type": "stream",
          "name": "stdout",
          "text": [
            "[2, 4, 6]\n",
            "[1, 3, 5]\n"
          ]
        }
      ]
    },
    {
      "cell_type": "markdown",
      "source": [
        "## 5. how to filter the multiple of 3 from a given list and them remove the odd number from the new filtered list.\n",
        "Eg A = [1,2,3,4,5,6,7,8,9,21,23,24]\n",
        "Filter_lsit = [3,6,9,21,24]\n",
        "output_list = [6,24]"
      ],
      "metadata": {
        "id": "Qb1mVGfnk6G5"
      }
    },
    {
      "cell_type": "code",
      "source": [
        "A=[1,2,3,4,5,6,7,8,9,21,23,24]\n",
        "Filter_lsit=[]\n",
        "output_list=[]\n",
        "for i in A:\n",
        "  if i%3==0:\n",
        "    Filter_lsit.append(i)\n",
        "    if i%2==0:\n",
        "      output_list.append(i)\n",
        "print(Filter_lsit)\n",
        "print(output_list)\n",
        "\n"
      ],
      "metadata": {
        "colab": {
          "base_uri": "https://localhost:8080/"
        },
        "id": "OEam3_Ltq44G",
        "outputId": "6b0f14e1-90f5-4b13-88e3-1ca9e42e5d1f"
      },
      "execution_count": 1,
      "outputs": [
        {
          "output_type": "stream",
          "name": "stdout",
          "text": [
            "[3, 6, 9, 21, 24]\n",
            "[6, 24]\n"
          ]
        }
      ]
    },
    {
      "cell_type": "code",
      "source": [],
      "metadata": {
        "id": "SoEIlEAtx_LG"
      },
      "execution_count": null,
      "outputs": []
    },
    {
      "cell_type": "markdown",
      "source": [
        "## 7. Write python program to join, merge, concatente the two dictionaries..\n"
      ],
      "metadata": {
        "id": "vV00n0awk5_G"
      }
    },
    {
      "cell_type": "code",
      "source": [
        "d1={'a': 1, 'b': 2}\n",
        "d2={'b': 3, 'c': 4}\n",
        "d1.update(d2)\n",
        "print(\"Joined Dictionary:\", d1)\n",
        "md={**d1, **d2}\n",
        "print(\"Merged Dictionary:\", md)"
      ],
      "metadata": {
        "colab": {
          "base_uri": "https://localhost:8080/"
        },
        "id": "f77YTmfCx-aQ",
        "outputId": "86586de2-7943-4f48-8ff9-2a13c319a119"
      },
      "execution_count": 18,
      "outputs": [
        {
          "output_type": "stream",
          "name": "stdout",
          "text": [
            "Joined Dictionary: {'a': 1, 'b': 3, 'c': 4}\n",
            "Merged Dictionary: {'a': 1, 'b': 3, 'c': 4}\n"
          ]
        }
      ]
    },
    {
      "cell_type": "markdown",
      "source": [
        "## 8. How would you check a specific keys from the dictionary??\n"
      ],
      "metadata": {
        "id": "Z_7dpypWnQ-z"
      }
    },
    {
      "cell_type": "code",
      "source": [
        "a=\"12312345\"\n",
        "d={}\n",
        "for i in a:\n",
        "  if i not in d:\n",
        "    d[i]=1\n",
        "  else:\n",
        "    d[i]+=1\n",
        "a1=[]\n",
        "for key,value in d.items():\n",
        "  if key in d.keys():\n",
        "    a1.append(value)\n",
        "print(d)\n",
        "print(a1)\n"
      ],
      "metadata": {
        "colab": {
          "base_uri": "https://localhost:8080/"
        },
        "id": "hjYPakzYx7-q",
        "outputId": "e4194602-3138-4b99-98c0-3b1d52b585df"
      },
      "execution_count": 7,
      "outputs": [
        {
          "output_type": "stream",
          "name": "stdout",
          "text": [
            "{'1': 2, '2': 2, '3': 2, '4': 1, '5': 1}\n",
            "[2, 2, 2, 1, 1]\n"
          ]
        }
      ]
    },
    {
      "cell_type": "markdown",
      "source": [
        "## 9. write a python program to find the unique vowel present in the sentence"
      ],
      "metadata": {
        "id": "EjxeB4ntnirH"
      }
    },
    {
      "cell_type": "code",
      "source": [
        "a=\"aeieiouspySA\"\n",
        "d={}\n",
        "for i in range(len(a)):\n",
        "  if a[i]=='a' or a[i]=='e' or a[i]=='i' or a[i]=='o' or a[i]=='u' or a[i]=='A' or a[i]=='E' or a[i]=='I' or a[i]=='O' or a[i]=='U':\n",
        "    if a[i] not in d:\n",
        "      d[a[i]]=1\n",
        "    else:\n",
        "      d[a[i]]+=1\n",
        "  else:\n",
        "    pass\n",
        "a1=[]\n",
        "for key,value in d.items():\n",
        "  if value==1:\n",
        "    a1.append(key)\n",
        "print(d)\n",
        "print(a1)"
      ],
      "metadata": {
        "colab": {
          "base_uri": "https://localhost:8080/"
        },
        "id": "UHmNuKu9skC9",
        "outputId": "0f3920b2-c424-434f-e545-9554fcdb3059"
      },
      "execution_count": 8,
      "outputs": [
        {
          "output_type": "stream",
          "name": "stdout",
          "text": [
            "{'a': 1, 'e': 2, 'i': 2, 'o': 1, 'u': 1, 'A': 1}\n",
            "['a', 'o', 'u', 'A']\n"
          ]
        }
      ]
    },
    {
      "cell_type": "markdown",
      "source": [
        "## 10. We know that tuple is immutable, do any thing and add element to the tuples."
      ],
      "metadata": {
        "id": "B1VBImcfns6V"
      }
    },
    {
      "cell_type": "code",
      "source": [
        "a=(1,2,3,4)\n",
        "b=5\n",
        "a+=(b,)\n",
        "print(a)"
      ],
      "metadata": {
        "colab": {
          "base_uri": "https://localhost:8080/"
        },
        "id": "RNbfXgre0YIP",
        "outputId": "77108a0f-e8d6-423b-9548-bcf8093bbd83"
      },
      "execution_count": 11,
      "outputs": [
        {
          "output_type": "stream",
          "name": "stdout",
          "text": [
            "(1, 2, 3, 4, 5)\n"
          ]
        }
      ]
    },
    {
      "cell_type": "markdown",
      "source": [
        "## 11. How would you sum the list of tuple and sum of tuple of list\n",
        "list  = [(2,3),(4,5),(6,4)]\n",
        "output= [5,9,10]\n",
        "\n",
        "tuple  =([2,3],[4,5],[6,4])\n",
        "output  =  (5,9,10)"
      ],
      "metadata": {
        "id": "Yd7tDQHuoGFm"
      }
    },
    {
      "cell_type": "code",
      "source": [
        "li=[(2,3),(4,5),(6,4)]\n",
        "out=[]\n",
        "for i in range(len(li)):\n",
        "  out.append(int(sum(li[i])))\n",
        "print(out)\n",
        "a1=([2,3],[4,5],[6,4])\n",
        "a2=list(a1)\n",
        "a3=[]\n",
        "for i in a2:\n",
        "  a3.append(sum(i))\n",
        "print(tuple(a3))"
      ],
      "metadata": {
        "colab": {
          "base_uri": "https://localhost:8080/"
        },
        "id": "MsUOUxUiwPsP",
        "outputId": "46577147-3667-4493-e05a-7a3b56ba7c67"
      },
      "execution_count": 20,
      "outputs": [
        {
          "output_type": "stream",
          "name": "stdout",
          "text": [
            "[5, 9, 10]\n"
          ]
        }
      ]
    },
    {
      "cell_type": "markdown",
      "source": [
        "## 12. FIND THE FREQUENCY OF THE KEYS IN THE GIVEN DICTIONARY"
      ],
      "metadata": {
        "id": "YiXg_vDpoq7X"
      }
    },
    {
      "cell_type": "code",
      "source": [
        "#value of the key gives the frequency of the key in the Dictionary\n",
        "a=\"1231234123\"\n",
        "d={}\n",
        "for i in a:\n",
        "  if i not in d:\n",
        "    d[i]=1\n",
        "  else:\n",
        "    d[i]+=1\n",
        "print(d)"
      ],
      "metadata": {
        "colab": {
          "base_uri": "https://localhost:8080/"
        },
        "id": "Tk8xR4xvvbMq",
        "outputId": "c9ccdb27-c24b-4fe2-973e-e416dbc11bbe"
      },
      "execution_count": 9,
      "outputs": [
        {
          "output_type": "stream",
          "name": "stdout",
          "text": [
            "{'1': 3, '2': 3, '3': 3, '4': 1}\n"
          ]
        }
      ]
    }
  ]
}